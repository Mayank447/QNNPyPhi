{
 "cells": [
  {
   "cell_type": "code",
   "execution_count": 226,
   "id": "e0303339",
   "metadata": {},
   "outputs": [],
   "source": [
    "import numpy as np\n",
    "from pprint import pprint \n",
    "from collections import Counter"
   ]
  },
  {
   "cell_type": "code",
   "execution_count": 227,
   "id": "c698f9d5",
   "metadata": {},
   "outputs": [],
   "source": [
    "tpm = np.array([\n",
    "     [0, 0, 0],\n",
    "     [0, 0, 1],\n",
    "     [1, 0, 1],\n",
    "     [1, 0, 0],\n",
    "     [1, 1, 0],\n",
    "     [1, 1, 1],\n",
    "     [1, 1, 1],\n",
    "     [1, 1, 0]\n",
    " ])\n",
    "\n",
    "cm = np.array([\n",
    "     [0, 0, 0, 0, 1, 0],\n",
    "     [0, 0, 0, 0, 1, 0],\n",
    "     [0, 0, 0, 0, 1, 0],\n",
    "     [0, 0, 0, 0, 1, 0],\n",
    "     [0, 0, 0, 0, 0, 1],\n",
    "     [1, 0, 0, 0, 0, 0],\n",
    " ])\n",
    "\n",
    "labels = ('A', 'B', 'C', 'D', 'E', 'F')"
   ]
  },
  {
   "cell_type": "markdown",
   "id": "519066f3",
   "metadata": {},
   "source": [
    "## Boolean perceptron"
   ]
  },
  {
   "cell_type": "raw",
   "id": "0f2b8f76",
   "metadata": {},
   "source": [
    "Removing elements from a graph  ->  Need a better way to index nodes [DONE]\n",
    "\n",
    "Listing elements (nodes, edges) of a graph [DONE]\n",
    "\n",
    "Node Degrees [DONE]\n",
    "\n",
    "Accessing neighbours [DONE]\n",
    "\n",
    "add_node() -> single node, add_nodes_from() -> list of vertices\n",
    "\n",
    "Drawing the graph\n",
    "\n",
    "Add/Change the label to a node [DONE]\n",
    "\n",
    "Dealing with isolated nodes [DONE]"
   ]
  },
  {
   "cell_type": "code",
   "execution_count": 228,
   "id": "3a1d8244",
   "metadata": {},
   "outputs": [],
   "source": [
    "class Graph():\n",
    "    def __init__(self, Adjacency_Matrix = None, label = None, Adjacency_List = None):\n",
    "        ''' Initializes a Graph Structure (Vertex, Edges) given a Connectivity Matrix or Adjacency List.\n",
    "        We assume all the edge weights are positive. There are two type of degrees : Outbound and Inbound.\n",
    "        Sets the vertex label if provided either as an ordered list or dictionary (preferred)'''\n",
    "        \n",
    "        self.nodes = {}\n",
    "        self.edges = {}\n",
    "        self.no_nodes = 0\n",
    "        self.no_edges =0\n",
    "        self.node_dictionary = {'state': 0, 'label': None, 'outbound_degree': 0, 'inbound_degree':0, 'threshhold': 0 }\n",
    "        self.removed_node = []\n",
    "        \n",
    "        if(Adjacency_Matrix is not None):\n",
    "            self.no_nodes = Adjacency_Matrix.shape[0]\n",
    "            self.no_edges = np.count_nonzero(Adjacency_Matrix)\n",
    "            self.nodes = {key: self.node_dictionary.copy() for key in range(self.no_nodes)}\n",
    "        \n",
    "            for i, row in enumerate(Adjacency_Matrix):\n",
    "                nonzero_indices = np.nonzero(row)\n",
    "                self.edges[i] = dict(zip(nonzero_indices[0], row[nonzero_indices[0]]))\n",
    "                self.nodes[i]['outbound_degree'] = len(nonzero_indices[0])\n",
    "                self.nodes[i]['inbound_degree'] = len(np.nonzero(Adjacency_Matrix[:,i])[0])\n",
    "\n",
    "\n",
    "        elif(Adjacency_List is not None):\n",
    "            # Assuming Adjacency matrix is a dictionary and key are vertices starting from 0 and elements are (node, weight)\n",
    "            self.no_nodes = len(Adjacency_List)\n",
    "            self.nodes = {key: self.node_dictionary.copy() for key in range(self.no_nodes)}\n",
    "            self.edges = Adjacency_List\n",
    "            inbound_degrees = []\n",
    "            \n",
    "            for i, v in enumerate(Adjacency_List.values()):\n",
    "                self.no_edges += len(v)\n",
    "                self.nodes[i]['outbound_degree'] = len(v)\n",
    "                inbound_degrees.extend(list(v.keys()))\n",
    "                \n",
    "            inbound_degrees = Counter(inbound_degrees)\n",
    "            for key in inbound_degrees.keys():\n",
    "                self.nodes[key]['inbound_degree'] = inbound_degrees[key]\n",
    "            \n",
    "            \n",
    "        # If the label list is given and all the elements are unique \n",
    "        if(label is not None and len(set(label)) == len(self.nodes)):\n",
    "            for i in range(self.no_nodes):\n",
    "                self.nodes[i]['label'] = label[i]\n",
    "            \n",
    "            \n",
    "    def print_graph(self):\n",
    "        print(\"Vertices: \\n\", self.nodes.keys(), \"\\n\\n\")\n",
    "        print(\"Edegs:\")\n",
    "        pprint(self.edges)\n",
    "        \n",
    "            \n",
    "    def add_node(self, label = None):\n",
    "        ''' Creates a new vertex and returns its index'''\n",
    "        self.no_nodes += 1\n",
    "        \n",
    "        if(len(self.removed_node)!=0):\n",
    "            index = self.removed_node.pop(0)\n",
    "            self.nodes[index] = self.node_dictionary\n",
    "            self.nodes[index]['label'] = label\n",
    "            self.edges[index] = {}\n",
    "            return index\n",
    "            \n",
    "        else:\n",
    "            self.nodes[self.no_nodes-1] = self.node_dictionary\n",
    "            self.nodes[self.no_nodes-1]['label'] = label\n",
    "            self.edges[self.no_nodes-1] = {}\n",
    "            return self.no_nodes\n",
    "        \n",
    "        \n",
    "    def add_edge(self, vertex_1, vertex_2, weight):\n",
    "        if(vertex_1 not in self.nodes or vertex_2 not in self.nodes):\n",
    "            print(\"One of the Vertices is out of bound\")\n",
    "            return 0\n",
    "        \n",
    "        elif(vertex_2 in self.edges[vertex_1]):\n",
    "            print(\"Edge is already present\")\n",
    "            return 0\n",
    "        \n",
    "        self.edges[vertex_1][vertex_2] = weight\n",
    "        self.nodes[vertex_1]['outbound_degree'] += 1\n",
    "        self.nodes[vertex_2]['inbound_degree'] += 1\n",
    "        self.no_edges += 1\n",
    "        return 1\n",
    "    \n",
    "    '''\n",
    "    def add_nodes_from(self, list_vertex):\n",
    "        i = 0\n",
    "        length_list = len(list_vertex)\n",
    "        \n",
    "        for node in self.removed_node:\n",
    "            self.nodes[node] = self.node_dictionary\n",
    "    '''\n",
    "            \n",
    "        \n",
    "    def add_edges_from(self, list_edges):\n",
    "        for i,j, weight in list_edges:\n",
    "            if((i in self.nodes and j in self.nodes) and (j not in self.edges[i] and weight!=0)):\n",
    "                self.edges[i][j] = weight\n",
    "                self.nodes[i]['outbound_degree'] += 1\n",
    "                self.nodes[j]['inbound_degree'] += 1\n",
    "                self.no_edges += 1\n",
    "    \n",
    "    \n",
    "    def remove_node(self, vertex):\n",
    "        if(vertex not in self.nodes):\n",
    "            print(\"Vertex not present\")\n",
    "            return 0\n",
    "        \n",
    "        for i in self.nodes: # deleting inbound_edges\n",
    "            if(vertex in self.edges[i].keys()): \n",
    "                del self.edges[i][vertex]\n",
    "        \n",
    "        del self.edges[vertex] # deleting outbound_edges\n",
    "        self.no_edges -= (self.nodes[vertex]['inbound_degree'] + self.nodes[vertex]['outbound_degree'])\n",
    "        self.no_nodes -= 1\n",
    "        self.removed_node.append(vertex)\n",
    "        del self.nodes[vertex]\n",
    "        return 1\n",
    "    \n",
    "    def remove_edge(self, vertex1, vertex2):\n",
    "        if(vertex1 not in self.nodes or vertex2 not in self.nodes):\n",
    "            print(\"One of the Vertices is out of bound\")\n",
    "            return 0\n",
    "        \n",
    "        elif(vertex2 not in self.edges[vertex1]):\n",
    "            print(\"Edge not present\")\n",
    "            return 0\n",
    "        \n",
    "        del self.edges[vertex1][vertex2]\n",
    "        self.nodes[vertex1]['outbound_degree'] -= 1\n",
    "        self.nodes[vertex2]['inbound_degree'] -= 1\n",
    "        self.no_edges -= 1\n",
    "        return 1\n",
    "    \n",
    "        \n",
    "    def node_neighbours(self, vertex):\n",
    "        return self.edges[vertex].keys()\n",
    "    \n",
    "    def change_label(self, vertex, label):\n",
    "        if(vertex in self.nodes):\n",
    "            self.nodes[vertex]['label'] = label\n",
    "            return 1\n",
    "        \n",
    "        else:\n",
    "            print(\"Vertex out of bound\")\n",
    "            return 0\n",
    "    def generate_tpm(self):\n",
    "        fut = np.zeros((self.no_nodes, 1))\n",
    "\n",
    "        states = np.zeros((self.no_nodes, 1))\n",
    "        i = 0 \n",
    "        for node in self.nodes.keys():\n",
    "            if self.nodes[node]['threshhold']<0 :\n",
    "                states[i] = 1\n",
    "            i+=1\n",
    "\n",
    "        def do(states, done, fut):\n",
    "            if done == self.no_nodes:\n",
    "                pprint(states)\n",
    "                pprint(fut)\n",
    "                return\n",
    "            else:\n",
    "   \n",
    "                do(states, done+1, fut)\n",
    "                for vert in self.edges[self.no_nodes-1-done].keys():\n",
    "                    if fut[vert] == 0:\n",
    "                        self.nodes[vert]['state'] += self.edges[self.no_nodes-1-done][vert]\n",
    "                        if self.nodes[vert]['state']>=self.nodes[vert]['threshhold']:\n",
    "                            fut[vert] = 1\n",
    "                states[self.no_nodes-1-done] = 1\n",
    "                do(states, done+1, fut)\n",
    "                for vert in self.edges[self.no_nodes-1-done].keys():\n",
    "                    if fut[vert] == 0:\n",
    "                        self.nodes[vert]['state'] -= self.edges[self.no_nodes-1-done][vert]\n",
    "                        if self.nodes[vert]['state']<self.nodes[vert]['threshhold'] :\n",
    "                            fut[vert] = 0\n",
    "                states[self.no_nodes-1-done] = 0\n",
    "        do(states, 0, fut)\n",
    "\n",
    "\n",
    "\n",
    "                    \n",
    "\n",
    "                "
   ]
  },
  {
   "cell_type": "code",
   "execution_count": 229,
   "id": "bd209857",
   "metadata": {},
   "outputs": [],
   "source": [
    "cm = np.array([\n",
    "     [1,1],\n",
    "     [1,1]\n",
    " ])\n",
    "G = Graph(Adjacency_Matrix=cm, label=['A','B','C'])\n",
    "G.nodes[0]['threshhold'] = 2\n",
    "G.nodes[1]['threshhold'] = 1\n",
    "\n"
   ]
  },
  {
   "cell_type": "code",
   "execution_count": 230,
   "id": "8ace1509",
   "metadata": {},
   "outputs": [
    {
     "name": "stdout",
     "output_type": "stream",
     "text": [
      "array([[0.],\n",
      "       [0.]])\n",
      "array([[0.],\n",
      "       [0.]])\n",
      "array([[1.],\n",
      "       [0.]])\n",
      "array([[0.],\n",
      "       [1.]])\n",
      "array([[0.],\n",
      "       [1.]])\n",
      "array([[0.],\n",
      "       [1.]])\n",
      "array([[1.],\n",
      "       [1.]])\n",
      "array([[1.],\n",
      "       [1.]])\n"
     ]
    }
   ],
   "source": [
    "G.generate_tpm()\n"
   ]
  },
  {
   "cell_type": "markdown",
   "id": "82189376",
   "metadata": {},
   "source": []
  },
  {
   "cell_type": "code",
   "execution_count": 231,
   "id": "b18c8c40",
   "metadata": {},
   "outputs": [
    {
     "data": {
      "text/plain": [
       "1"
      ]
     },
     "execution_count": 231,
     "metadata": {},
     "output_type": "execute_result"
    }
   ],
   "source": [
    "G.edges[0][0]"
   ]
  },
  {
   "cell_type": "code",
   "execution_count": 232,
   "id": "4c6dae18",
   "metadata": {},
   "outputs": [
    {
     "data": {
      "text/plain": [
       "{0: 1, 1: 1}"
      ]
     },
     "execution_count": 232,
     "metadata": {},
     "output_type": "execute_result"
    }
   ],
   "source": [
    "G.edges[0]"
   ]
  },
  {
   "cell_type": "code",
   "execution_count": 233,
   "id": "f68b584b",
   "metadata": {},
   "outputs": [],
   "source": [
    "G.add_edges_from([[6,1,3],[1,0,4]])"
   ]
  },
  {
   "cell_type": "code",
   "execution_count": 234,
   "id": "79d4c0ac",
   "metadata": {},
   "outputs": [
    {
     "name": "stdout",
     "output_type": "stream",
     "text": [
      "One of the Vertices is out of bound\n"
     ]
    },
    {
     "data": {
      "text/plain": [
       "0"
      ]
     },
     "execution_count": 234,
     "metadata": {},
     "output_type": "execute_result"
    }
   ],
   "source": [
    "G.remove_edge(6,1)"
   ]
  },
  {
   "cell_type": "code",
   "execution_count": 235,
   "id": "ca6a5336",
   "metadata": {},
   "outputs": [
    {
     "data": {
      "text/plain": [
       "2"
      ]
     },
     "execution_count": 235,
     "metadata": {},
     "output_type": "execute_result"
    }
   ],
   "source": [
    "G.nodes[0]['state']"
   ]
  },
  {
   "cell_type": "code",
   "execution_count": 236,
   "id": "473558ad",
   "metadata": {},
   "outputs": [
    {
     "data": {
      "text/plain": [
       "2"
      ]
     },
     "execution_count": 236,
     "metadata": {},
     "output_type": "execute_result"
    }
   ],
   "source": [
    "G.no_nodes"
   ]
  },
  {
   "cell_type": "code",
   "execution_count": 237,
   "id": "2511969c",
   "metadata": {},
   "outputs": [
    {
     "name": "stdout",
     "output_type": "stream",
     "text": [
      "{0: {0: 1, 1: 1}, 1: {0: 1, 1: 1}}\n"
     ]
    }
   ],
   "source": [
    "pprint(G.edges)"
   ]
  },
  {
   "cell_type": "code",
   "execution_count": 238,
   "id": "ae300602",
   "metadata": {},
   "outputs": [],
   "source": [
    "cl = {0: {3: 1, 4: 1}, 1: {4: 1}, 2: {4: 1}, 3: {4: 1}, 4: {5: 1}, 5: {0: 1}}"
   ]
  },
  {
   "cell_type": "code",
   "execution_count": 239,
   "id": "785bc3b0",
   "metadata": {},
   "outputs": [],
   "source": [
    "G_ = Graph(Adjacency_List=cl)"
   ]
  },
  {
   "cell_type": "code",
   "execution_count": 240,
   "id": "5188e109",
   "metadata": {},
   "outputs": [
    {
     "name": "stdout",
     "output_type": "stream",
     "text": [
      "Vertices: \n",
      " dict_keys([0, 1, 2, 3, 4, 5]) \n",
      "\n",
      "\n",
      "Edegs:\n",
      "{0: {3: 1, 4: 1}, 1: {4: 1}, 2: {4: 1}, 3: {4: 1}, 4: {5: 1}, 5: {0: 1}}\n"
     ]
    }
   ],
   "source": [
    "G_.print_graph()"
   ]
  },
  {
   "cell_type": "code",
   "execution_count": 241,
   "id": "64fc4065",
   "metadata": {},
   "outputs": [
    {
     "data": {
      "text/plain": [
       "6"
      ]
     },
     "execution_count": 241,
     "metadata": {},
     "output_type": "execute_result"
    }
   ],
   "source": [
    "G_.no_nodes"
   ]
  },
  {
   "cell_type": "code",
   "execution_count": 242,
   "id": "d86af3df",
   "metadata": {},
   "outputs": [
    {
     "data": {
      "text/plain": [
       "{0: {'state': 0,\n",
       "  'label': None,\n",
       "  'outbound_degree': 2,\n",
       "  'inbound_degree': 1,\n",
       "  'threshhold': 0},\n",
       " 1: {'state': 0,\n",
       "  'label': None,\n",
       "  'outbound_degree': 1,\n",
       "  'inbound_degree': 0,\n",
       "  'threshhold': 0},\n",
       " 2: {'state': 0,\n",
       "  'label': None,\n",
       "  'outbound_degree': 1,\n",
       "  'inbound_degree': 0,\n",
       "  'threshhold': 0},\n",
       " 3: {'state': 0,\n",
       "  'label': None,\n",
       "  'outbound_degree': 1,\n",
       "  'inbound_degree': 1,\n",
       "  'threshhold': 0},\n",
       " 4: {'state': 0,\n",
       "  'label': None,\n",
       "  'outbound_degree': 1,\n",
       "  'inbound_degree': 4,\n",
       "  'threshhold': 0},\n",
       " 5: {'state': 0,\n",
       "  'label': None,\n",
       "  'outbound_degree': 1,\n",
       "  'inbound_degree': 1,\n",
       "  'threshhold': 0}}"
      ]
     },
     "execution_count": 242,
     "metadata": {},
     "output_type": "execute_result"
    }
   ],
   "source": [
    "G_.nodes"
   ]
  },
  {
   "cell_type": "code",
   "execution_count": 243,
   "id": "1e133a67",
   "metadata": {},
   "outputs": [],
   "source": [
    "a = list(G_.edges[0].keys())"
   ]
  },
  {
   "cell_type": "code",
   "execution_count": 244,
   "id": "527b7562",
   "metadata": {},
   "outputs": [
    {
     "ename": "AttributeError",
     "evalue": "'list' object has no attribute 'union'",
     "output_type": "error",
     "traceback": [
      "\u001b[0;31m---------------------------------------------------------------------------\u001b[0m",
      "\u001b[0;31mAttributeError\u001b[0m                            Traceback (most recent call last)",
      "Cell \u001b[0;32mIn[244], line 2\u001b[0m\n\u001b[1;32m      1\u001b[0m b \u001b[39m=\u001b[39m {\u001b[39m3\u001b[39m, \u001b[39m5\u001b[39m}\n\u001b[0;32m----> 2\u001b[0m Counter(a\u001b[39m.\u001b[39;49munion(b))\n",
      "\u001b[0;31mAttributeError\u001b[0m: 'list' object has no attribute 'union'"
     ]
    }
   ],
   "source": [
    "b = {3, 5}\n",
    "Counter(a.union(b))"
   ]
  },
  {
   "cell_type": "code",
   "execution_count": null,
   "id": "362de1dd",
   "metadata": {},
   "outputs": [],
   "source": [
    "G.generate_tpm()"
   ]
  },
  {
   "cell_type": "code",
   "execution_count": null,
   "id": "bce8621b",
   "metadata": {},
   "outputs": [],
   "source": []
  }
 ],
 "metadata": {
  "kernelspec": {
   "display_name": "Python 3 (ipykernel)",
   "language": "python",
   "name": "python3"
  },
  "language_info": {
   "codemirror_mode": {
    "name": "ipython",
    "version": 3
   },
   "file_extension": ".py",
   "mimetype": "text/x-python",
   "name": "python",
   "nbconvert_exporter": "python",
   "pygments_lexer": "ipython3",
   "version": "3.10.6"
  }
 },
 "nbformat": 4,
 "nbformat_minor": 5
}
